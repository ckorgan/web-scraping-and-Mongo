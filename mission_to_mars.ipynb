{
  "nbformat": 4,
  "nbformat_minor": 0,
  "metadata": {
    "colab": {
      "name": "mission_to_mars.ipynb",
      "version": "0.3.2",
      "provenance": [],
      "collapsed_sections": [],
      "toc_visible": true
    },
    "kernelspec": {
      "name": "python3",
      "display_name": "Python 3"
    }
  },
  "cells": [
    {
      "metadata": {
        "id": "v-ZgabzIccUd",
        "colab_type": "text"
      },
      "cell_type": "markdown",
      "source": [
        "# Mission to Mars\n",
        "## Step 1 - Scraping\n",
        "### NASA Mars News"
      ]
    },
    {
      "metadata": {
        "id": "_5Mqda0XRvJ-",
        "colab_type": "code",
        "outputId": "cadf9fc0-305c-4a4d-d6ce-e051adf6e9c3",
        "colab": {
          "base_uri": "https://localhost:8080/",
          "height": 54
        }
      },
      "cell_type": "code",
      "source": [
        "import requests\n",
        "from bs4 import BeautifulSoup\n",
        "import json\n",
        "\n",
        "session = requests.Session()\n",
        "session.headers.update({\n",
        "     'User-Agent' : 'Mozilla/5.0 (Windows NT 10.0; Win64; x64) AppleWebKit/537.36 (KHTML, like Gecko) Chrome/62.0.3202.62 Safari/537.36'\n",
        "})\n",
        "nasa_news_json_response = session.get('https://mars.nasa.gov/api/v1/news_items/?page=0&per_page=40&order=publish_date+desc%2Ccreated_at+desc&search=&category=19%2C165%2C184%2C204&blank_scope=Latest',allow_redirects=True).json()\n",
        "mars_news_dict = []\n",
        "for news_item in nasa_news_json_response['items']:\n",
        "  mars_news_dict.append({'title':news_item['title'],'description': news_item['description']})\n",
        "print(mars_news_dict)\n"
      ],
      "execution_count": 2,
      "outputs": [
        {
          "output_type": "stream",
          "text": [
            "[{'title': 'Rover Team Beaming New Commands to Opportunity on Mars', 'description': 'Engineers at JPL have begun transmitting a new set of commands to Opportunity in an attempt to compel the Mars rover to contact Earth.'}, {'title': \"NASA's Opportunity Rover Logs 15 Years on Mars\", 'description': 'The rover landed in a region of the Red Planet called Meridiani Planum 16 years ago today, on Jan. 24, 2004.'}, {'title': \"NASA's InSight Places First Instrument on Mars\", 'description': 'In deploying its first instrument onto the surface of Mars, the lander completes a major mission milestone.'}, {'title': 'InSight Engineers Have Made a Martian Rock Garden', 'description': \"Reconstructing Mars here on Earth lets them practice setting down the lander's science instruments.\"}, {'title': 'Mars InSight Lander Seen in First Images from Space ', 'description': \"Look closely, and you can make out the lander's solar panels.\"}, {'title': \"NASA's InSight Takes Its First Selfie\", 'description': 'Two new image mosaics detail the lander\\'s deck and \"workspace\" — the surface where it will eventually set down its science instruments.'}, {'title': \"NASA InSight Lander 'Hears' Martian Winds \", 'description': 'Vibrations picked up by two spacecraft instruments have provided the first sounds of Martian wind.'}, {'title': \"NASA's Mars InSight Flexes Its Arm\", 'description': \"Now unstowed, the spacecraft's robotic arm will point a camera located on its elbow and take images of the surroundings.\"}, {'title': \"Mars New Home 'a Large Sandbox'\", 'description': \"With InSight safely on the surface of Mars, the mission team is busy learning more about the spacecraft's landing site.\"}, {'title': 'NASA Hears MarCO CubeSats Loud and Clear from Mars ', 'description': \"A pair of tiny, experimental spacecraft fulfilled their mission yesterday, relaying back near-real-time data during InSight's landing.\"}, {'title': 'InSight Is Catching Rays on Mars', 'description': 'The lander has sent data indicating its solar panels are open and receiving sunlight to power its surface operations.'}, {'title': 'NASA InSight Lander Arrives on Martian Surface ', 'description': 'The touchdown marks the eighth time NASA has successfully landed a spacecraft on Mars.'}, {'title': 'Landing Day for InSight', 'description': \"NASA's InSight spacecraft is on target for Mars landing at around noon PST today.\"}, {'title': 'NASA InSight Landing on Mars: Milestones', 'description': \"On Nov. 26, NASA's InSight spacecraft will blaze through the Martian atmosphere and set a lander gently on the surface in less time than it takes to cook a hard-boiled egg.\"}, {'title': 'NASA InSight Team on Course for Mars Touchdown', 'description': \"NASA's Mars InSight spacecraft is on track for a soft touchdown on the surface of the Red Planet on Nov. 26.\"}, {'title': 'What Two Planetary Siblings Can Teach Us About Life', 'description': \"In studying Mars, NASA's InSight will reveal what makes one planet more or less suitable for life than another.\"}, {'title': 'NASA Announces Landing Site for Mars 2020 Rover', 'description': 'After a five-year search, NASA has chosen Jezero Crater as the landing site for its upcoming Mars 2020 rover mission.'}, {'title': 'NASA to Host Media Call on Next Mars Landing Site', 'description': 'NASA will host a media teleconference at 9 a.m. PST (noon EST) Monday, Nov. 19, to provide details about the Mars 2020 rover’s landing site on the Red Planet.'}, {'title': 'How NASA Will Know When InSight Touches Down', 'description': 'On Nov. 26, engineers will look for a combination of signals to determine whether the next spacecraft to Mars lands safely.'}, {'title': 'NASA Brings Mars Landing to Viewers Everywhere', 'description': \"NASA's InSight lander is scheduled to touch down on the Red Planet at approximately noon PST  on Nov. 26, with a new suite of instruments to probe below the Martian surface.\"}, {'title': 'Curiosity on the Move Again', 'description': \"NASA's Mars Curiosity rover drove about 197 feet over the weekend to a site called Lake Orcadie, pushing its total odometry to over 12 miles.\"}, {'title': 'The Mars InSight Landing Site Is Just Plain Perfect', 'description': 'If the InSight landing zone were ice cream, it would be vanilla.'}, {'title': \"Five Things to Know About InSight's Mars Landing\", 'description': \"NASA engineers will be holding their breath when their spacecraft heads into Mars' atmosphere on Nov. 26.\"}, {'title': 'NASA Launches a New Podcast to Mars', 'description': \"NASA's new eight-episode series 'On a Mission' follows the InSight spacecraft on its journey to Mars and details the extraordinary challenges of landing on the Red Planet.\"}, {'title': 'Update on Opportunity Rover Recovery Efforts', 'description': 'After a review of the progress of the listening campaign, NASA will continue its current strategy for attempting to make contact with the Opportunity rover for the foreseeable future.'}, {'title': 'Third ASPIRE Test Confirms Mars 2020 Parachute a Go', 'description': 'The supersonic parachute that will handle the heaviest payload yet to the Red Planet – Mars 2020 rover – passes its final sounding rocket test with flying colors.'}, {'title': 'NASA to Host Briefing on November Mars InSight Landing', 'description': \"A briefing on NASA's upcoming InSight Mars landing will air on Wed. Oct. 31 at 1:30 p.m. EDT (10:30 a.m. PDT) on NASA TV, the agency's website and NASA InSight Facebook Page.\"}, {'title': \"NASA's InSight Will Study Mars While Standing Still\", 'description': \"The lander's unique science can teach us how planets are born.\"}, {'title': \"NASA's First Image of Mars from a CubeSat\", 'description': 'The image was produced by one of the twin briefcase-sized MarCO spacecraft, the first CubeSats to fly to deep space.'}, {'title': \"The 'Claw Game' on Mars: NASA InSight Plays to Win\", 'description': \"NASA's InSight lander will be the first mission to use a robotic arm to grasp instruments from the spacecraft and place them on the surface of another planet. \"}, {'title': 'Scientists to Debate Landing Site for Next Mars Rover', 'description': \"Hundreds of scientists and Mars-exploration enthusiasts gather this week to present, discuss and deliberate the future landing site for NASA's next Red Planet. \"}, {'title': 'Mars Virtual Reality Software Wins NASA Award', 'description': \"A mixed-reality software that allows scientists and engineers to virtually walk on Mars has received NASA's 2018 Software of the Year Award.\"}, {'title': 'Painting Cars for Mars', 'description': \"What does NASA do to get a rover ready for Mars? JPL's paint shop does a thousand different paint jobs a year. And while every piece of spacecraft that comes through the shop is important, one headed for the Red Planet adds a little extra oomph.\"}, {'title': 'Opportunity Emerges in a Dusty Picture', 'description': \"NASA still hasn't heard from the Opportunity rover, but at least the agency can see it again.\"}, {'title': 'NASA Seeking Partner in Contest to Name Next Mars Rover', 'description': 'NASA has a class assignment for corporations, nonprofits and educational organizations involved in science and space exploration: partner with the agency to inspire future engineers and scientists by sponsoring a contest to name the next rover to venture to the Red Planet.'}, {'title': \"NASA's MAVEN Selfie Marks Four Years in Orbit at Mars\", 'description': 'NASA’s MAVEN spacecraft celebrates four years in Mars orbit with a selfie.'}, {'title': 'MarCO Makes Space for Small Explorers', 'description': 'A pair of NASA CubeSats flying to Mars are opening a new frontier for small spacecraft.'}, {'title': 'Curiosity Surveys a Mystery Under Dusty Skies', 'description': \"NASA's Curiosity rover surveyed its surroundings on Mars, producing a 360-degree panorama of its current location on Vera Rubin Ridge.\"}, {'title': \"NASA's InSight Has a Thermometer for Mars\", 'description': \"The mission's heat probe could reveal how the planet's towering volcanoes formed.\"}, {'title': 'Digital Creators: Apply for NASA Mars Landing Event', 'description': \"Up to 30 multimedia participants will be selected for a special two-day event at JPL culminating in the InSight spacecraft's landing on Mars. Apply by Sept. 3.\"}]\n"
          ],
          "name": "stdout"
        }
      ]
    },
    {
      "metadata": {
        "id": "T4BT121lcao-",
        "colab_type": "text"
      },
      "cell_type": "markdown",
      "source": [
        "### JPL Mars Space Images - Featured Image"
      ]
    },
    {
      "metadata": {
        "id": "dbTJtNNgRw-F",
        "colab_type": "code",
        "colab": {
          "base_uri": "https://localhost:8080/",
          "height": 34
        },
        "outputId": "be75dca0-7d72-487c-a280-9752be9ea2c4"
      },
      "cell_type": "code",
      "source": [
        "jpl_host = 'https://www.jpl.nasa.gov'\n",
        "featured_image_response = requests.get(jpl_host + '/spaceimages/?search=&category=Mars')\n",
        "html_soup = BeautifulSoup(featured_image_response.text, 'html.parser')\n",
        "full_image_element = html_soup.select('#full_image')\n",
        "full_image_url = full_image_element[0].get_attribute_list('data-fancybox-href')[0]\n",
        "featured_image_url = jpl_host + full_image_url\n",
        "print(featured_image_url)\n"
      ],
      "execution_count": 4,
      "outputs": [
        {
          "output_type": "stream",
          "text": [
            "https://www.jpl.nasa.gov/spaceimages/images/mediumsize/PIA18280_ip.jpg\n"
          ],
          "name": "stdout"
        }
      ]
    },
    {
      "metadata": {
        "id": "swpJyIMce5sT",
        "colab_type": "text"
      },
      "cell_type": "markdown",
      "source": [
        "### Mars Weather"
      ]
    },
    {
      "metadata": {
        "id": "gIy3204de01L",
        "colab_type": "code",
        "outputId": "ff1c8f3c-6523-4e12-c115-1f8103fefbb7",
        "colab": {
          "base_uri": "https://localhost:8080/",
          "height": 54
        }
      },
      "cell_type": "code",
      "source": [
        "session = requests.Session()\n",
        "session.headers.update({\n",
        "     'User-Agent' : 'Mozilla/5.0 (Windows NT 10.0; Win64; x64) AppleWebKit/537.36 (KHTML, like Gecko) Chrome/62.0.3202.62 Safari/537.36'\n",
        "})\n",
        "mars_weather_tweets = session.get('https://twitter.com/marswxreport?lang=en',allow_redirects=True)\n",
        "html_soup = BeautifulSoup(mars_weather_tweets.text, 'html.parser')\n",
        "mars_weather = html_soup.select('div.js-tweet-text-container p')[0].text\n",
        "print(mars_weather)\n"
      ],
      "execution_count": 8,
      "outputs": [
        {
          "output_type": "stream",
          "text": [
            "Sol 2298 (2019-01-23), high -9C/15F, low -71C/-95F, pressure at 8.17 hPa, daylight 06:46-18:55pic.twitter.com/HNaq1Rjsoq\n"
          ],
          "name": "stdout"
        }
      ]
    },
    {
      "metadata": {
        "id": "koGbozn_g5VP",
        "colab_type": "text"
      },
      "cell_type": "markdown",
      "source": [
        "### Mars Facts\n"
      ]
    },
    {
      "metadata": {
        "id": "HwRTUZo0g8XB",
        "colab_type": "code",
        "outputId": "3e55f16e-43b4-49a3-bb24-7ad3394c98bb",
        "colab": {
          "base_uri": "https://localhost:8080/",
          "height": 54
        }
      },
      "cell_type": "code",
      "source": [
        "import pandas as pd\n",
        "session = requests.Session()\n",
        "session.headers.update({\n",
        "     'User-Agent' : 'Mozilla/5.0 (Windows NT 10.0; Win64; x64) AppleWebKit/537.36 (KHTML, like Gecko) Chrome/62.0.3202.62 Safari/537.36'\n",
        "})\n",
        "mars_facts_response = session.get('http://space-facts.com/mars/',allow_redirects=True)\n",
        "html_soup = BeautifulSoup(mars_facts_response.text, 'html.parser')\n",
        "mars_facts_properties = html_soup.select('#tablepress-mars .column-1 strong')\n",
        "mars_facts_values = html_soup.select('#tablepress-mars .column-2')\n",
        "mars_fact_dict = {}\n",
        "for fact_index in range(0,len(mars_facts_properties)):\n",
        "  \n",
        "  mars_fact_dict[mars_facts_properties[fact_index].text[:-1]] = [mars_facts_values[fact_index].text]\n",
        "\n",
        "mars_df = pd.DataFrame(data=mars_fact_dict).T\n",
        "mars_df.to_html()"
      ],
      "execution_count": 10,
      "outputs": [
        {
          "output_type": "execute_result",
          "data": {
            "text/plain": [
              "'<table border=\"1\" class=\"dataframe\">\\n  <thead>\\n    <tr style=\"text-align: right;\">\\n      <th></th>\\n      <th>0</th>\\n    </tr>\\n  </thead>\\n  <tbody>\\n    <tr>\\n      <th>Equatorial Diameter</th>\\n      <td>6,792 km\\\\n</td>\\n    </tr>\\n    <tr>\\n      <th>First Record</th>\\n      <td>2nd millennium BC</td>\\n    </tr>\\n    <tr>\\n      <th>Mass</th>\\n      <td>6.42 x 10^23 kg (10.7% Earth)</td>\\n    </tr>\\n    <tr>\\n      <th>Moons</th>\\n      <td>2 (Phobos &amp; Deimos)</td>\\n    </tr>\\n    <tr>\\n      <th>Orbit Distance</th>\\n      <td>227,943,824 km (1.52 AU)</td>\\n    </tr>\\n    <tr>\\n      <th>Orbit Period</th>\\n      <td>687 days (1.9 years)\\\\n</td>\\n    </tr>\\n    <tr>\\n      <th>Polar Diameter</th>\\n      <td>6,752 km\\\\n</td>\\n    </tr>\\n    <tr>\\n      <th>Recorded By</th>\\n      <td>Egyptian astronomers</td>\\n    </tr>\\n    <tr>\\n      <th>Surface Temperature:</th>\\n      <td>-153 to 20 °C</td>\\n    </tr>\\n  </tbody>\\n</table>'"
            ]
          },
          "metadata": {
            "tags": []
          },
          "execution_count": 10
        }
      ]
    }
  ]
}